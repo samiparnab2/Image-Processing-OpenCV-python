{
  "nbformat": 4,
  "nbformat_minor": 0,
  "metadata": {
    "colab": {
      "name": "EdgeDetection(Canny).ipynb",
      "provenance": []
    },
    "kernelspec": {
      "name": "python3",
      "display_name": "Python 3",
      "language": "python"
    }
  },
  "cells": [
    {
      "cell_type": "code",
      "metadata": {
        "id": "mo40Ri21MTIC"
      },
      "source": [
        "import numpy as np\n",
        "import math\n",
        "import cv2\n",
        "import matplotlib.pyplot as plt\n",
        "\n",
        "def padding(img,size):\n",
        "    imgPadded=np.zeros((img.shape[0]+(2*size),img.shape[1]+(2*size)),dtype=np.uint8)\n",
        "    imgPadded[size:img.shape[0]+size,size:img.shape[1]+size]=img\n",
        "    return imgPadded\n",
        "\n",
        "def blur(img,kernel_size):\n",
        "  if(kernel_size%2==0):\n",
        "    print(\"kernel size must be odd\")\n",
        "    return\n",
        "  kernel=np.ones((kernel_size,kernel_size))\n",
        "  kernel=kernel/np.sum(kernel)\n",
        "  filt_image=np.zeros_like(img)\n",
        "  imgPadded=padding(img,kernel_size//2)\n",
        "  for i in range(img.shape[0]):\n",
        "        for j in range(img.shape[1]):\n",
        "            filt_image[i,j]=np.sum(imgPadded[i:i+kernel_size,j:j+kernel_size]*kernel)\n",
        "  return filt_image\n"
      ],
      "execution_count": null,
      "outputs": []
    },
    {
      "cell_type": "code",
      "execution_count": null,
      "metadata": {},
      "outputs": [],
      "source": [
        "def sobel(imgGray):\n",
        "    imgGray=blur(imgGray,3)\n",
        "    row,col=imgGray.shape\n",
        "    imgPadded=np.zeros((row+2,col+2),dtype=np.uint8)\n",
        "    imgPadded[1:row+1,1:col+1]=imgGray\n",
        "    sx=np.array([[1,0,-1],[2,0,-2],[1,0,-1]])\n",
        "    sy=np.array([[1,2,1],[0,0,0],[-1,-2,-1]])\n",
        "\n",
        "    imgNew=np.zeros((row,col),dtype=np.uint8)\n",
        "    for i in range(0,row):\n",
        "        for j in range(0,col):\n",
        "            tx=np.sum(imgPadded[i:i+3,j:j+3]*sx)\n",
        "            ty=np.sum(imgPadded[i:i+3,j:j+3]*sy)\n",
        "            imgNew[i,j]=min(round(math.sqrt((tx**2)+(ty**2))),255)\n",
        "    \n",
        "    return imgNew/imgNew.max() * 255"
      ]
    },
    {
      "cell_type": "code",
      "metadata": {
        "id": "LUHfn9RgWDsi"
      },
      "source": [
        "def maxperangle(arr,ang,i,j):\n",
        "  if ang[i,j]==0:\n",
        "    mod=max(arr[i,j],arr[i+1,j])\n",
        "    mod=max(mod,arr[i-1,j])\n",
        "  elif ang[i,j]==45:\n",
        "    mod=max(arr[i,j],arr[i+1,j+1])\n",
        "    mod=max(mod,arr[i-1,j-1])\n",
        "  elif ang[i,j]==90:\n",
        "    mod=max(arr[i,j],arr[i,j+1])\n",
        "    mod=max(mod,arr[i,j-1])\n",
        "  elif ang[i,j]==135:\n",
        "    mod=max(arr[i,j],arr[i+1,j-1])\n",
        "    mod=max(mod,arr[i-1,j+1])\n",
        "  return mod\n",
        "\n",
        "def canny(img):\n",
        "  img_blur=blur(img,3)\n",
        "\n",
        "  imgPadded=padding(img_blur,1)\n",
        "\n",
        "  sx=np.array([[-1,0,1],[-2,0,2],[-1,0,1]])\n",
        "  sy=np.array([[1,2,1],[0,0,0],[-1,-2,-1]])\n",
        "\n",
        "  img_grad=np.zeros(img_blur.shape,dtype=np.uint8)\n",
        "  img_angle=np.zeros(img_blur.shape,dtype=np.float32)\n",
        "  tx=img_grad+0\n",
        "  ty=tx+0\n",
        "  for i in range(0,img_blur.shape[0]):\n",
        "      for j in range(0,img_blur.shape[1]):\n",
        "          tx[i,j]=np.sum(imgPadded[i:i+3,j:j+3]*sx)\n",
        "          ty[i,j]=np.sum(imgPadded[i:i+3,j:j+3]*sy)\n",
        "          img_grad[i,j]=round(math.sqrt((tx[i,j]**2)+(ty[i,j]**2)))\n",
        "          img_angle[i,j]=math.atan2(ty[i,j],tx[i,j])\n",
        "          if img_angle[i,j]<0:\n",
        "            img_angle[i,j]+=180\n",
        "          if img_angle[i,j]>=157.5:\n",
        "            img_angle[i,j]=0\n",
        "  img_grad=img_grad/img_grad.max() * 255\n",
        "  plt.imshow(tx,'gray')\n",
        "  plt.show()\n",
        "  plt.imshow(ty,'gray')\n",
        "  plt.show()\n",
        "\n",
        "  start=0\n",
        "  img_angle1=np.zeros_like(img_angle)\n",
        "  for inc in range(4):\n",
        "    img_angle1+=(((img_angle>=(start-22.5))&(img_angle<(start+22.5)))*start)\n",
        "    start+=45\n",
        "\n",
        "  imgPadded=padding(img_grad,1)\n",
        "  angPadded=padding(img_angle1,1)\n",
        "  img_final=np.zeros_like(imgPadded)\n",
        "  # plt.imshow(imgPadded,cmap='gray')\n",
        "  # plt.title(\"gg\")\n",
        "  # plt.show()\n",
        "  for i in range(1,imgPadded.shape[0]-1):\n",
        "    for j in range(1,imgPadded.shape[1]-1):\n",
        "      if imgPadded[i,j]>=maxperangle(imgPadded,angPadded,i,j):\n",
        "        img_final[i,j]=imgPadded[i,j]\n",
        "      else:\n",
        "        img_final[i,j]=0\n",
        "  imgPadded=img_final+0\n",
        "  u_th=120\n",
        "  l_th=60\n",
        "  img_final=(imgPadded[1:img.shape[0],1:img.shape[1]]>=l_th)*255\n",
        "  return img_final\n"
      ],
      "execution_count": null,
      "outputs": []
    },
    {
      "cell_type": "code",
      "metadata": {
        "colab": {
          "base_uri": "https://localhost:8080/",
          "height": 571
        },
        "id": "5AstoBKMnEGt",
        "outputId": "26bb0dce-2866-4486-f485-419a6732c686"
      },
      "source": [
        "imgGray=cv2.imread(\"images/Lenna.png\",0)\n",
        "plt.figure(figsize=(20,20))\n",
        "plt.subplot(1,2,1)\n",
        "plt.imshow(cv2.Canny(imgGray,60,120),cmap='gray')\n",
        "plt.title(\"orginal\")\n",
        "plt.subplot(1,2,2)\n",
        "plt.imshow(canny(imgGray),cmap='gray')\n",
        "plt.title(\"Edges\")\n",
        "plt.show()\n",
        "    "
      ],
      "execution_count": null,
      "outputs": []
    },
    {
      "cell_type": "code",
      "execution_count": null,
      "metadata": {},
      "outputs": [],
      "source": [
        "plt.figure(figsize=(10,10))\n",
        "plt.imshow(sobel(imgGray),cmap='gray')\n",
        "plt.show()"
      ]
    },
    {
      "cell_type": "code",
      "execution_count": null,
      "metadata": {},
      "outputs": [],
      "source": []
    }
  ]
}